{
 "cells": [
  {
   "cell_type": "markdown",
   "metadata": {},
   "source": [
    "# CO2 Data Processing"
   ]
  },
  {
   "cell_type": "code",
   "execution_count": 1,
   "metadata": {},
   "outputs": [],
   "source": [
    "#%% Python libraries--don't edit\n",
    "\n",
    "import pandas as pd\n",
    "import numpy as np\n",
    "import datetime\n",
    "import matplotlib.pyplot as plt\n",
    "\n",
    "import gpxpy"
   ]
  },
  {
   "cell_type": "markdown",
   "metadata": {},
   "source": [
    "### Inputs:\n",
    "- You can/should modify filenames below as needed.  \n",
    "- MAKE SURE EXTENSION IS WRITTEN EXACTLY AS IT SHOWS UP ON YOUR COMPUTER (e.g., .csv or .CSV, .gpx, .GPX)\n",
    "- MAKE SURE THAT THIS .ipynb FILE IS SAVED IN SAME DIRECTORY (FOLDER) AS YOUR DATA FILES"
   ]
  },
  {
   "cell_type": "code",
   "execution_count": 2,
   "metadata": {},
   "outputs": [],
   "source": [
    "# Filename for CO2 data\n",
    "# CO2 data should be a .csv file and ONLY the data from one particular experiment\n",
    "# Trim data in Excel first and save again as .CSV if needed (not .TXT)\n",
    "CO2_filename = 'K30_0000.csv'\n",
    "\n",
    "# Time when I noted that CO2 logging began *** in UTC ***\n",
    "# Year, month, day, hour (24 hr format), minute, second\n",
    "starttime_utc = datetime.datetime(2021, 3, 8, 12, 47, 0)\n",
    "\n",
    "# Strava GPX file\n",
    "gpx_filename = 'CO2_sensor_test_walk.gpx'"
   ]
  },
  {
   "cell_type": "markdown",
   "metadata": {},
   "source": [
    "### Read in CO2 data"
   ]
  },
  {
   "cell_type": "code",
   "execution_count": 3,
   "metadata": {},
   "outputs": [],
   "source": [
    "df_CO2 = pd.read_csv(CO2_filename)\n",
    "elapsed_time_sec = df_CO2.iloc[:, 0] # insensitive to column name\n",
    "CO2 = df_CO2.iloc[:, 1]"
   ]
  },
  {
   "cell_type": "markdown",
   "metadata": {},
   "source": [
    "### Deal with timestamps (local vs. UTC)"
   ]
  },
  {
   "cell_type": "code",
   "execution_count": 25,
   "metadata": {},
   "outputs": [
    {
     "data": {
      "text/html": [
       "<div>\n",
       "<style scoped>\n",
       "    .dataframe tbody tr th:only-of-type {\n",
       "        vertical-align: middle;\n",
       "    }\n",
       "\n",
       "    .dataframe tbody tr th {\n",
       "        vertical-align: top;\n",
       "    }\n",
       "\n",
       "    .dataframe thead th {\n",
       "        text-align: right;\n",
       "    }\n",
       "</style>\n",
       "<table border=\"1\" class=\"dataframe\">\n",
       "  <thead>\n",
       "    <tr style=\"text-align: right;\">\n",
       "      <th></th>\n",
       "      <th>Elapsed Time (seconds)</th>\n",
       "      <th>CO2 (ppm)</th>\n",
       "      <th>Time (UTC)</th>\n",
       "    </tr>\n",
       "  </thead>\n",
       "  <tbody>\n",
       "    <tr>\n",
       "      <th>2021-03-08 12:47:02</th>\n",
       "      <td>2</td>\n",
       "      <td>1259</td>\n",
       "      <td>NaT</td>\n",
       "    </tr>\n",
       "    <tr>\n",
       "      <th>2021-03-08 12:47:04</th>\n",
       "      <td>4</td>\n",
       "      <td>1247</td>\n",
       "      <td>NaT</td>\n",
       "    </tr>\n",
       "    <tr>\n",
       "      <th>2021-03-08 12:47:06</th>\n",
       "      <td>6</td>\n",
       "      <td>1231</td>\n",
       "      <td>NaT</td>\n",
       "    </tr>\n",
       "    <tr>\n",
       "      <th>2021-03-08 12:47:08</th>\n",
       "      <td>8</td>\n",
       "      <td>1202</td>\n",
       "      <td>NaT</td>\n",
       "    </tr>\n",
       "    <tr>\n",
       "      <th>2021-03-08 12:47:10</th>\n",
       "      <td>10</td>\n",
       "      <td>1201</td>\n",
       "      <td>NaT</td>\n",
       "    </tr>\n",
       "  </tbody>\n",
       "</table>\n",
       "</div>"
      ],
      "text/plain": [
       "                     Elapsed Time (seconds)  CO2 (ppm) Time (UTC)\n",
       "2021-03-08 12:47:02                       2       1259        NaT\n",
       "2021-03-08 12:47:04                       4       1247        NaT\n",
       "2021-03-08 12:47:06                       6       1231        NaT\n",
       "2021-03-08 12:47:08                       8       1202        NaT\n",
       "2021-03-08 12:47:10                      10       1201        NaT"
      ]
     },
     "execution_count": 25,
     "metadata": {},
     "output_type": "execute_result"
    }
   ],
   "source": [
    "# Calculate \"absolute\" rather than elapsed time for CO2 sensor, in UTC\n",
    "# time_CO2 = starttime_utc+pd.Timedelta(seconds = elapsed_time_sec)\n",
    "time_CO2 = [starttime_utc+datetime.timedelta(seconds = e_time) for e_time in elapsed_time_sec]\n",
    "time_CO2 = pd.Series(time_CO2)\n",
    "\n",
    "# Add newly named and calculated columns to original DataFrame, reset index to time in UTC\n",
    "df_CO2 = df_CO2.set_index(time_CO2)\n",
    "df_CO2.head()"
   ]
  },
  {
   "cell_type": "markdown",
   "metadata": {},
   "source": [
    "### GPS\n",
    "- Add Garmin GPS data"
   ]
  },
  {
   "cell_type": "code",
   "execution_count": 26,
   "metadata": {},
   "outputs": [
    {
     "data": {
      "text/html": [
       "<div>\n",
       "<style scoped>\n",
       "    .dataframe tbody tr th:only-of-type {\n",
       "        vertical-align: middle;\n",
       "    }\n",
       "\n",
       "    .dataframe tbody tr th {\n",
       "        vertical-align: top;\n",
       "    }\n",
       "\n",
       "    .dataframe thead th {\n",
       "        text-align: right;\n",
       "    }\n",
       "</style>\n",
       "<table border=\"1\" class=\"dataframe\">\n",
       "  <thead>\n",
       "    <tr style=\"text-align: right;\">\n",
       "      <th></th>\n",
       "      <th>lat</th>\n",
       "      <th>lon</th>\n",
       "    </tr>\n",
       "  </thead>\n",
       "  <tbody>\n",
       "    <tr>\n",
       "      <th>2021-03-08 12:52:36</th>\n",
       "      <td>34.186881</td>\n",
       "      <td>-77.863983</td>\n",
       "    </tr>\n",
       "    <tr>\n",
       "      <th>2021-03-08 12:52:37</th>\n",
       "      <td>34.186888</td>\n",
       "      <td>-77.863942</td>\n",
       "    </tr>\n",
       "    <tr>\n",
       "      <th>2021-03-08 12:52:38</th>\n",
       "      <td>34.186891</td>\n",
       "      <td>-77.863927</td>\n",
       "    </tr>\n",
       "    <tr>\n",
       "      <th>2021-03-08 12:52:39</th>\n",
       "      <td>34.186887</td>\n",
       "      <td>-77.863920</td>\n",
       "    </tr>\n",
       "    <tr>\n",
       "      <th>2021-03-08 12:52:40</th>\n",
       "      <td>34.186884</td>\n",
       "      <td>-77.863922</td>\n",
       "    </tr>\n",
       "  </tbody>\n",
       "</table>\n",
       "</div>"
      ],
      "text/plain": [
       "                           lat        lon\n",
       "2021-03-08 12:52:36  34.186881 -77.863983\n",
       "2021-03-08 12:52:37  34.186888 -77.863942\n",
       "2021-03-08 12:52:38  34.186891 -77.863927\n",
       "2021-03-08 12:52:39  34.186887 -77.863920\n",
       "2021-03-08 12:52:40  34.186884 -77.863922"
      ]
     },
     "execution_count": 26,
     "metadata": {},
     "output_type": "execute_result"
    }
   ],
   "source": [
    "lat_strava = []\n",
    "lon_strava = []\n",
    "time_strava = []\n",
    "points = []\n",
    "\n",
    "# Extract time, lat, and lon from .GPX file\n",
    "gpx_file = open(gpx_filename, 'r')\n",
    "gpx = gpxpy.parse(gpx_file)\n",
    "\n",
    "for track in gpx.tracks:\n",
    "    for segment in track.segments:\n",
    "        for point in segment.points:\n",
    "            lat_strava.append(point.latitude)\n",
    "            lon_strava.append(point.longitude)\n",
    "            time_strava.append(pd.to_datetime(point.time))\n",
    "            points.append(tuple([point.latitude, point.longitude]))\n",
    "\n",
    "data_strava = {'lat': lat_strava, 'lon': lon_strava}\n",
    "df_strava = pd.DataFrame(data_strava, index = time_strava)\n",
    "df_strava.index = df_strava.index.tz_localize(None)\n",
    "df_strava.head()"
   ]
  },
  {
   "cell_type": "markdown",
   "metadata": {},
   "source": [
    "### Make some graphs"
   ]
  },
  {
   "cell_type": "code",
   "execution_count": 29,
   "metadata": {},
   "outputs": [
    {
     "data": {
      "image/png": "[encoded data removed]",
      "text/plain": [
       "<Figure size 432x288 with 1 Axes>"
      ]
     },
     "metadata": {
      "needs_background": "light"
     },
     "output_type": "display_data"
    }
   ],
   "source": [
    "# Plot CO2 data vs. time\n",
    "fig, axs = plt.subplots(figsize = (6, 4))\n",
    "axs.plot(df_CO2.index, df_CO2['CO2 (ppm)'], 'ko')\n",
    "axs.set_xlabel('Time (UTC)')\n",
    "axs.set_ylabel('CO2 (ppm)')\n",
    "axs.set_title('CO2 vs. Time')\n",
    "fig.autofmt_xdate()"
   ]
  },
  {
   "cell_type": "code",
   "execution_count": 30,
   "metadata": {},
   "outputs": [
    {
     "data": {
      "text/plain": [
       "<matplotlib.legend.Legend at 0x7fd7c58ba890>"
      ]
     },
     "execution_count": 30,
     "metadata": {},
     "output_type": "execute_result"
    },
    {
     "data": {
      "image/png": "[encoded data removed]",
      "text/plain": [
       "<Figure size 432x288 with 1 Axes>"
      ]
     },
     "metadata": {
      "needs_background": "light"
     },
     "output_type": "display_data"
    }
   ],
   "source": [
    "# Plot timestamps only to see if they align\n",
    "fig, axs = plt.subplots()\n",
    "axs.plot(df_CO2.index, df_CO2.index, 'k.', label = 'K-30')\n",
    "axs.plot(df_strava.index, df_strava.index, 'r.', label = 'Strava')\n",
    "fig.legend()"
   ]
  },
  {
   "cell_type": "markdown",
   "metadata": {},
   "source": [
    "### Merge CO2 and GPX files"
   ]
  },
  {
   "cell_type": "code",
   "execution_count": 31,
   "metadata": {},
   "outputs": [],
   "source": [
    "# Merge to get lat/lon alongside CO2\n",
    "df_merge = pd.merge(df_CO2, df_strava, left_index = True, right_index = True)\n",
    "df_merge.to_csv('merged_CO2_and_GPS.csv')"
   ]
  },
  {
   "cell_type": "markdown",
   "metadata": {},
   "source": [
    "### Process data further in ArcGIS"
   ]
  },
  {
   "cell_type": "code",
   "execution_count": null,
   "metadata": {},
   "outputs": [],
   "source": []
  }
 ],
 "metadata": {
  "kernelspec": {
   "display_name": "Python 3",
   "language": "python",
   "name": "python3"
  },
  "language_info": {
   "codemirror_mode": {
    "name": "ipython",
    "version": 3
   },
   "file_extension": ".py",
   "mimetype": "text/x-python",
   "name": "python",
   "nbconvert_exporter": "python",
   "pygments_lexer": "ipython3",
   "version": "3.7.7"
  }
 },
 "nbformat": 4,
 "nbformat_minor": 4
}
